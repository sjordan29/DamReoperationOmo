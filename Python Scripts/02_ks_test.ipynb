{
 "cells": [
  {
   "cell_type": "code",
   "execution_count": 1,
   "metadata": {},
   "outputs": [],
   "source": [
    "import pandas as pd\n",
    "import matplotlib.pyplot as plt\n",
    "from glob import glob\n",
    "import numpy as np\n",
    "from astropy.stats import bootstrap as bootstrap\n",
    "import statsmodels.api as sm\n",
    "import statsmodels.formula.api as smf\n",
    "from scipy import stats as ss\n",
    "import scipy.signal\n",
    "import os\n",
    "import string\n",
    "import seaborn as sns\n",
    "from matplotlib import patheffects as pe\n",
    "import json"
   ]
  },
  {
   "cell_type": "code",
   "execution_count": 2,
   "metadata": {},
   "outputs": [],
   "source": [
    "# fpath_dps = '/gpfs/gpfs0/project/quinnlab/smj5vup/omoScenarios/omoScenarios/BestPolicyEachObjCC/Timeseries/DPS_MEF/'\n",
    "fpath_dps = '../../Timeseries/DPS_MEF/'\n",
    "fpath_uc = '../../Timeseries/Uncontrolled/'\n",
    "# fpath_d = '/gpfs/gpfs0/project/quinnlab/smj5vup/omoScenarios/omoScenarios/BestPolicyEachObjCC/Extremes/DPS_MEF/'\n",
    "fpath_d = '../../Extremes/DPS_MEF/'\n",
    "fpath_u = '../../Extremes/Uncontrolled'\n",
    "HUC_7Q = pd.read_csv('../../../Historical/Extremes/UC_7Q.csv', index_col = 'Unnamed: 0')\n",
    "HUC_AMS = pd.read_csv('../../../Historical/Extremes/Uncontrolled_AMS.csv', index_col = 'date')\n",
    "\n",
    "PROJECTIONS = np.unique([f.split(\"_\")[0] for f in os.listdir(fpath_dps)])"
   ]
  },
  {
   "cell_type": "code",
   "execution_count": 3,
   "metadata": {},
   "outputs": [
    {
     "data": {
      "text/plain": [
       "48"
      ]
     },
     "execution_count": 3,
     "metadata": {},
     "output_type": "execute_result"
    }
   ],
   "source": [
    "# I think we're missing some projections. Only 42, should be 48 I believe. Need to re-run. \n",
    "len(PROJECTIONS)"
   ]
  },
  {
   "cell_type": "code",
   "execution_count": 4,
   "metadata": {},
   "outputs": [],
   "source": [
    "class Scenario:\n",
    "    def __init__(self, projections, fpath_extremes, scenario_string, index_col, historical_uncontrolled_timeseries, color, label, time_period = \"Mid\"):\n",
    "        self.projections = projections\n",
    "        self.all_flows = dict.fromkeys(self.projections)\n",
    "        self.uncontrolled_timeseries = historical_uncontrolled_timeseries\n",
    "        self.cmap_val = color # for plotting\n",
    "        self.label = label # for plotting\n",
    "        self.time_period = time_period\n",
    "        for proj in self.projections:\n",
    "            self.all_flows[proj] = pd.read_csv(os.path.join(fpath_extremes, f'{proj}_{scenario_string}.csv'), parse_dates=True, index_col = index_col)\n",
    "    \n",
    "    def ks_test_p_values(self, policies, colname=\"00\", mc = 2040, lc = 2070):\n",
    "        self.policies = policies\n",
    "        self.pvals = dict.fromkeys(self.policies)\n",
    "        self.projection_ls = dict.fromkeys(self.policies)\n",
    "        for policy in policies:\n",
    "            self.projection_ls[policy] = []\n",
    "        \n",
    "        if self.time_period == \"Mid\":\n",
    "            start = mc\n",
    "            end = lc\n",
    "        else:\n",
    "            start = lc \n",
    "            end = 2100\n",
    "        \n",
    "        for policy in self.policies:\n",
    "            self.pvals[policy] = []\n",
    "            \n",
    "            for proj in self.projections:\n",
    "                self.flows = self.all_flows[proj][(self.all_flows[proj].index.year >= start) & (self.all_flows[proj].index.year <= end-1)]\n",
    "                # KS test\n",
    "                _, p = ss.ks_2samp(self.flows[policy], self.uncontrolled_timeseries[colname])\n",
    "                # Add to dictionary\n",
    "                self.pvals[policy].append(p)\n",
    "                \n",
    "                if p > 0.05:\n",
    "                    self.projection_ls[policy].append(proj)\n",
    "                \n",
    "    def _percent_dict(self, pvals):\n",
    "        \"\"\" \n",
    "        robustness metric is the percent of projections where distribution of flows \n",
    "        is not statistically significantly different than the historical uncontrolled scenario. \n",
    "        \"\"\"\n",
    "        nc_dict = dict.fromkeys(self.policies)\n",
    "        robustness_metric = dict.fromkeys(self.policies)\n",
    "\n",
    "        for policy in self.policies:\n",
    "            not_ss = len([f for f in pvals[policy] if f > 0.05]) / len(pvals[policy])\n",
    "            nc_dict[policy] = not_ss\n",
    "            robustness_metric[policy] = not_ss\n",
    "        \n",
    "        # sort policies \n",
    "        robustness_metric = dict(sorted(robustness_metric.items(), key=lambda item: item[1], reverse=True))\n",
    "        robust_policy = max(robustness_metric, key=robustness_metric.get)\n",
    "        \n",
    "        return robustness_metric, robust_policy\n",
    "    \n",
    "    def calculate_robustness_metric(self):\n",
    "        self.robustness_metric, self.robust_policy = self._percent_dict(self.pvals)\n",
    "        self.ordered_policies = [f for f in self.robustness_metric.keys()]\n",
    "        self.robustness_metric_df = pd.DataFrame.from_dict(self.robustness_metric, orient='index', columns=['Robustness Metric'])\n",
    "    \n",
    "    def override_robust_policy(self, policy):\n",
    "        self.robust_policy = policy\n"
   ]
  },
  {
   "cell_type": "code",
   "execution_count": 5,
   "metadata": {},
   "outputs": [],
   "source": [
    "class Compromise:\n",
    "    def __init__(self, policies, color, label):\n",
    "        self.policies = policies\n",
    "        self.cmap_val = color # for plotting\n",
    "        self.label = label # for plotting\n",
    "        self.robustness_metric = dict.fromkeys(policies)\n",
    "    \n",
    "    def calculate_robustness_metric(self, sevenQ, ams):\n",
    "        for policy in self.policies:\n",
    "            rm = len([f for f, i  in zip(ams.pvals[policy], sevenQ.pvals[policy]) if (f > 0.05) & (i > 0.05)]) / len(sevenQ.pvals[policy])\n",
    "            self.robustness_metric[policy] = rm\n",
    "            \n",
    "        self.robustness_metric = dict(sorted(self.robustness_metric.items(), key=lambda item: item[1], reverse=True))\n",
    "        self.ordered_policies = [f for f in self.robustness_metric.keys()]\n",
    "        self.robust_policy = max(self.robustness_metric, key=self.robustness_metric.get)\n",
    "        # make a dataframe\n",
    "        self.robustness_metric_df = pd.DataFrame.from_dict(self.robustness_metric, orient='index', columns =['Robustness Metric'])"
   ]
  },
  {
   "cell_type": "code",
   "execution_count": 6,
   "metadata": {},
   "outputs": [],
   "source": [
    "class ControlPolicy:\n",
    "    projections = PROJECTIONS\n",
    "    \n",
    "    def __init__(self, fpath_extremes):\n",
    "        self.sevenQ = Scenario(self.projections, fpath_extremes, \"7Q\", 'Unnamed: 0', HUC_7Q, 0.25, \"Low Flows\")\n",
    "        self.ams =  Scenario(self.projections, fpath_extremes, \"AMS\", 'date', HUC_AMS, 0.75, \"High Flows\")\n",
    "        self.policies = [f for f in self.sevenQ.all_flows['ACCESS1-0.rcp45'].columns if f != 'Year']\n",
    "        self.compromise = Compromise(self.policies, 0.5, \"Compromise\")\n",
    "    \n",
    "    def ks_test(self):\n",
    "        self.sevenQ.ks_test_p_values(self.policies)\n",
    "        self.sevenQ.calculate_robustness_metric()\n",
    "        self.ams.ks_test_p_values(self.policies)\n",
    "        self.ams.calculate_robustness_metric()\n",
    "    \n",
    "    def compromise_policy(self):\n",
    "        self.compromise.calculate_robustness_metric(self.sevenQ, self.ams)"
   ]
  },
  {
   "cell_type": "code",
   "execution_count": 7,
   "metadata": {},
   "outputs": [],
   "source": [
    "# DPS\n",
    "dps = ControlPolicy(fpath_d)\n",
    "dps.ks_test()"
   ]
  },
  {
   "cell_type": "code",
   "execution_count": 8,
   "metadata": {},
   "outputs": [],
   "source": [
    "dps.compromise_policy()"
   ]
  },
  {
   "cell_type": "code",
   "execution_count": 9,
   "metadata": {},
   "outputs": [
    {
     "data": {
      "text/html": [
       "<div>\n",
       "<style scoped>\n",
       "    .dataframe tbody tr th:only-of-type {\n",
       "        vertical-align: middle;\n",
       "    }\n",
       "\n",
       "    .dataframe tbody tr th {\n",
       "        vertical-align: top;\n",
       "    }\n",
       "\n",
       "    .dataframe thead th {\n",
       "        text-align: right;\n",
       "    }\n",
       "</style>\n",
       "<table border=\"1\" class=\"dataframe\">\n",
       "  <thead>\n",
       "    <tr style=\"text-align: right;\">\n",
       "      <th></th>\n",
       "      <th>Robustness Metric</th>\n",
       "    </tr>\n",
       "  </thead>\n",
       "  <tbody>\n",
       "    <tr>\n",
       "      <th>P14</th>\n",
       "      <td>0.166667</td>\n",
       "    </tr>\n",
       "  </tbody>\n",
       "</table>\n",
       "</div>"
      ],
      "text/plain": [
       "     Robustness Metric\n",
       "P14           0.166667"
      ]
     },
     "execution_count": 9,
     "metadata": {},
     "output_type": "execute_result"
    }
   ],
   "source": [
    "dps.compromise.robustness_metric_df[dps.compromise.robustness_metric_df.index == 'P14']"
   ]
  },
  {
   "cell_type": "code",
   "execution_count": 10,
   "metadata": {},
   "outputs": [
    {
     "data": {
      "text/html": [
       "<div>\n",
       "<style scoped>\n",
       "    .dataframe tbody tr th:only-of-type {\n",
       "        vertical-align: middle;\n",
       "    }\n",
       "\n",
       "    .dataframe tbody tr th {\n",
       "        vertical-align: top;\n",
       "    }\n",
       "\n",
       "    .dataframe thead th {\n",
       "        text-align: right;\n",
       "    }\n",
       "</style>\n",
       "<table border=\"1\" class=\"dataframe\">\n",
       "  <thead>\n",
       "    <tr style=\"text-align: right;\">\n",
       "      <th></th>\n",
       "      <th>Robustness Metric</th>\n",
       "    </tr>\n",
       "  </thead>\n",
       "  <tbody>\n",
       "    <tr>\n",
       "      <th>P86</th>\n",
       "      <td>0.729167</td>\n",
       "    </tr>\n",
       "    <tr>\n",
       "      <th>P14</th>\n",
       "      <td>0.708333</td>\n",
       "    </tr>\n",
       "    <tr>\n",
       "      <th>P41</th>\n",
       "      <td>0.604167</td>\n",
       "    </tr>\n",
       "    <tr>\n",
       "      <th>P04</th>\n",
       "      <td>0.541667</td>\n",
       "    </tr>\n",
       "    <tr>\n",
       "      <th>P38</th>\n",
       "      <td>0.520833</td>\n",
       "    </tr>\n",
       "    <tr>\n",
       "      <th>...</th>\n",
       "      <td>...</td>\n",
       "    </tr>\n",
       "    <tr>\n",
       "      <th>P78</th>\n",
       "      <td>0.000000</td>\n",
       "    </tr>\n",
       "    <tr>\n",
       "      <th>P79</th>\n",
       "      <td>0.000000</td>\n",
       "    </tr>\n",
       "    <tr>\n",
       "      <th>P88</th>\n",
       "      <td>0.000000</td>\n",
       "    </tr>\n",
       "    <tr>\n",
       "      <th>P91</th>\n",
       "      <td>0.000000</td>\n",
       "    </tr>\n",
       "    <tr>\n",
       "      <th>P92</th>\n",
       "      <td>0.000000</td>\n",
       "    </tr>\n",
       "  </tbody>\n",
       "</table>\n",
       "<p>98 rows × 1 columns</p>\n",
       "</div>"
      ],
      "text/plain": [
       "     Robustness Metric\n",
       "P86           0.729167\n",
       "P14           0.708333\n",
       "P41           0.604167\n",
       "P04           0.541667\n",
       "P38           0.520833\n",
       "..                 ...\n",
       "P78           0.000000\n",
       "P79           0.000000\n",
       "P88           0.000000\n",
       "P91           0.000000\n",
       "P92           0.000000\n",
       "\n",
       "[98 rows x 1 columns]"
      ]
     },
     "execution_count": 10,
     "metadata": {},
     "output_type": "execute_result"
    }
   ],
   "source": [
    "dps.sevenQ.robustness_metric_df"
   ]
  },
  {
   "cell_type": "code",
   "execution_count": 14,
   "metadata": {},
   "outputs": [],
   "source": [
    "# Uncontrolled\n",
    "uc = ControlPolicy(fpath_u)\n",
    "uc.ks_test()"
   ]
  },
  {
   "cell_type": "code",
   "execution_count": 15,
   "metadata": {},
   "outputs": [
    {
     "data": {
      "text/plain": [
       "['PUC']"
      ]
     },
     "execution_count": 15,
     "metadata": {},
     "output_type": "execute_result"
    }
   ],
   "source": [
    "uc.policies"
   ]
  },
  {
   "cell_type": "code",
   "execution_count": 16,
   "metadata": {},
   "outputs": [
    {
     "data": {
      "text/html": [
       "<div>\n",
       "<style scoped>\n",
       "    .dataframe tbody tr th:only-of-type {\n",
       "        vertical-align: middle;\n",
       "    }\n",
       "\n",
       "    .dataframe tbody tr th {\n",
       "        vertical-align: top;\n",
       "    }\n",
       "\n",
       "    .dataframe thead th {\n",
       "        text-align: right;\n",
       "    }\n",
       "</style>\n",
       "<table border=\"1\" class=\"dataframe\">\n",
       "  <thead>\n",
       "    <tr style=\"text-align: right;\">\n",
       "      <th></th>\n",
       "      <th>Robustness Metric</th>\n",
       "    </tr>\n",
       "  </thead>\n",
       "  <tbody>\n",
       "    <tr>\n",
       "      <th>PUC</th>\n",
       "      <td>0.645833</td>\n",
       "    </tr>\n",
       "  </tbody>\n",
       "</table>\n",
       "</div>"
      ],
      "text/plain": [
       "     Robustness Metric\n",
       "PUC           0.645833"
      ]
     },
     "execution_count": 16,
     "metadata": {},
     "output_type": "execute_result"
    }
   ],
   "source": [
    "uc.sevenQ.robustness_metric_df"
   ]
  },
  {
   "cell_type": "code",
   "execution_count": 17,
   "metadata": {},
   "outputs": [],
   "source": [
    "uc.compromise_policy()"
   ]
  },
  {
   "cell_type": "code",
   "execution_count": 18,
   "metadata": {},
   "outputs": [
    {
     "data": {
      "text/html": [
       "<div>\n",
       "<style scoped>\n",
       "    .dataframe tbody tr th:only-of-type {\n",
       "        vertical-align: middle;\n",
       "    }\n",
       "\n",
       "    .dataframe tbody tr th {\n",
       "        vertical-align: top;\n",
       "    }\n",
       "\n",
       "    .dataframe thead th {\n",
       "        text-align: right;\n",
       "    }\n",
       "</style>\n",
       "<table border=\"1\" class=\"dataframe\">\n",
       "  <thead>\n",
       "    <tr style=\"text-align: right;\">\n",
       "      <th></th>\n",
       "      <th>Robustness Metric</th>\n",
       "    </tr>\n",
       "  </thead>\n",
       "  <tbody>\n",
       "    <tr>\n",
       "      <th>PUC</th>\n",
       "      <td>0.166667</td>\n",
       "    </tr>\n",
       "  </tbody>\n",
       "</table>\n",
       "</div>"
      ],
      "text/plain": [
       "     Robustness Metric\n",
       "PUC           0.166667"
      ]
     },
     "execution_count": 18,
     "metadata": {},
     "output_type": "execute_result"
    }
   ],
   "source": [
    "uc.compromise.robustness_metric_df"
   ]
  },
  {
   "cell_type": "code",
   "execution_count": 19,
   "metadata": {},
   "outputs": [
    {
     "data": {
      "text/html": [
       "<div>\n",
       "<style scoped>\n",
       "    .dataframe tbody tr th:only-of-type {\n",
       "        vertical-align: middle;\n",
       "    }\n",
       "\n",
       "    .dataframe tbody tr th {\n",
       "        vertical-align: top;\n",
       "    }\n",
       "\n",
       "    .dataframe thead th {\n",
       "        text-align: right;\n",
       "    }\n",
       "</style>\n",
       "<table border=\"1\" class=\"dataframe\">\n",
       "  <thead>\n",
       "    <tr style=\"text-align: right;\">\n",
       "      <th></th>\n",
       "      <th>Robustness Metric</th>\n",
       "    </tr>\n",
       "  </thead>\n",
       "  <tbody>\n",
       "    <tr>\n",
       "      <th>PUC</th>\n",
       "      <td>0.645833</td>\n",
       "    </tr>\n",
       "  </tbody>\n",
       "</table>\n",
       "</div>"
      ],
      "text/plain": [
       "     Robustness Metric\n",
       "PUC           0.645833"
      ]
     },
     "execution_count": 19,
     "metadata": {},
     "output_type": "execute_result"
    }
   ],
   "source": [
    "uc.sevenQ.robustness_metric_df"
   ]
  },
  {
   "cell_type": "code",
   "execution_count": 20,
   "metadata": {},
   "outputs": [],
   "source": [
    "# Plot "
   ]
  },
  {
   "cell_type": "code",
   "execution_count": 21,
   "metadata": {},
   "outputs": [],
   "source": [
    "class Plotter:\n",
    "    def __init__(self, dps, uncontrolled):\n",
    "        self.dps = dps # DPS\n",
    "        self.puc = uncontrolled # projected uncontrolled\n",
    "        self.cmap = plt.cm.get_cmap(\"RdBu\")\n",
    "    \n",
    "    def _plot_robustness_metric(self, ax, dps_series, puc_series, title, label=False):\n",
    "        ax.plot(sorted(dps_series['Robustness Metric']*100, reverse=True), color='#ff7f00', linestyle='solid', label=\"\" if label == False else \"Optimized\")\n",
    "        ax.axhline(puc_series['Robustness Metric'].iloc[0]* 100, color=\"black\", linestyle=\"dashed\", label=\"\" if label == False else \"Uncontrolled\")\n",
    "        ax.set_xlabel(\"Policies\", fontsize=14)\n",
    "        ax.set_ylim(-1.5,65)\n",
    "        ax.set_xticks(np.arange(0, 125, 25))\n",
    "        ax.set_xticklabels(\"\")\n",
    "        ax.set_title(title)\n",
    "    \n",
    "    def _line_formatting(self, ax, scenario_a, scenario_b, label, scale_value=0.65, add_value=0.02):\n",
    "        ax.axvline(scenario_a.ordered_policies.index(scenario_b.robust_policy),\n",
    "                   ymin=scenario_a.robustness_metric[scenario_b.robust_policy] + add_value, # /scale_value + add_value/scale_value,\n",
    "                   ymax= 0 , color=self.cmap(scenario_b.cmap_val), \n",
    "                   linestyle = 'solid', linewidth = 2,marker='o', markevery=2, markersize=4, \n",
    "                   label = label,\n",
    "                   path_effects=[pe.Stroke(linewidth=4, foreground='k'), pe.Normal()])\n",
    "    \n",
    "\n",
    "    def _plot_lines(self, ax, scenario_class, alternate_scenario_1, alternate_scenario_2, label= False):\n",
    "        if label == False:\n",
    "            label = [\"\",\"\",\"\"]\n",
    "        else:\n",
    "            label = [scenario_class.label, alternate_scenario_1.label, alternate_scenario_2.label]\n",
    "        self._line_formatting(ax, scenario_class, scenario_class, label[0])\n",
    "        self._line_formatting(ax, scenario_class, alternate_scenario_1, label[1])\n",
    "        self._line_formatting(ax, scenario_class, alternate_scenario_2, label[2])\n",
    "        \n",
    "    \n",
    "    def plot(self):\n",
    "        # initialize figure\n",
    "        fig, (ax1, ax2, ax3) = plt.subplots(1,3)\n",
    "        sns.set_theme()\n",
    "\n",
    "        self._plot_robustness_metric(ax1, self.dps.sevenQ.robustness_metric_df, self.puc.sevenQ.robustness_metric_df, \"Low Flows\", True)\n",
    "        self._plot_robustness_metric(ax2, self.dps.ams.robustness_metric_df, self.puc.ams.robustness_metric_df, \"High Flows\")\n",
    "        self._plot_robustness_metric(ax3, self.dps.compromise.robustness_metric_df, self.puc.compromise.robustness_metric_df, \"High and Low Flows\")\n",
    "\n",
    "        # 7QS plot \n",
    "\n",
    "        self._plot_lines(ax1, self.dps.sevenQ, self.dps.ams, self.dps.compromise)\n",
    "        self._plot_lines(ax2, self.dps.ams, self.dps.sevenQ, self.dps.compromise, True)\n",
    "        self._plot_lines(ax3, self.dps.compromise, self.dps.sevenQ, self.dps.ams)\n",
    "\n",
    "        ax_ls = [ax1, ax2, ax3]\n",
    "        for i in range(len(ax_ls)) :\n",
    "            #ax_ls[i].set_xticks([0,0,0.5,0.75,100])\n",
    "\n",
    "            ax_ls[i].text(0.01, 0.93, \"(\"+ string.ascii_lowercase[i+1] + \")\", transform=ax_ls[i].transAxes, size=13, weight='bold')\n",
    "            ax_ls[i].tick_params(axis='y', labelsize=14)\n",
    "            ax_ls[i].set_ylim(-2,100)\n",
    "            ax_ls[i].set_yticks([0, 25, 50, 75, 100])\n",
    "        # for ax in [ax2, ax3]:\n",
    "        #     ax.set_yticklabels(\"\")\n",
    "\n",
    "        #ax1.legend()\n",
    "        ax1.set_xlabel(\"Policies\")\n",
    "        ax1.set_ylabel(\"No Statistically Significant Difference\\n From Historical Uncontrolled (%)\")\n",
    "        ax1.legend(bbox_to_anchor=(0.9, -0.2), ncol=2)\n",
    "\n",
    "        ax2.legend(bbox_to_anchor=(2.75,-0.2), ncol=4)\n",
    "        fig.set_size_inches([9.3625, 3.1625])\n",
    "        fig.tight_layout()\n",
    "\n",
    "        plt.savefig('Figures/Figure02.svg', bbox_inches='tight')\n",
    "        plt.savefig('Figures/Figure02.png', bbox_inches='tight')\n",
    "        plt.savefig('Figures/Figure02.pdf', bbox_inches='tight')\n"
   ]
  },
  {
   "cell_type": "code",
   "execution_count": 22,
   "metadata": {},
   "outputs": [],
   "source": [
    "plotter = Plotter(dps, uc)"
   ]
  },
  {
   "cell_type": "code",
   "execution_count": 23,
   "metadata": {},
   "outputs": [
    {
     "name": "stderr",
     "output_type": "stream",
     "text": [
      "<ipython-input-21-53c0531cac5d>:68: UserWarning: Tight layout not applied. tight_layout cannot make axes width small enough to accommodate all axes decorations\n",
      "  fig.tight_layout()\n"
     ]
    },
    {
     "data": {
      "image/png": "[encoded data removed]",
      "text/plain": [
       "<Figure size 674.1x227.7 with 3 Axes>"
      ]
     },
     "metadata": {
      "needs_background": "light"
     },
     "output_type": "display_data"
    }
   ],
   "source": [
    "plotter.plot()"
   ]
  },
  {
   "cell_type": "code",
   "execution_count": 54,
   "metadata": {},
   "outputs": [],
   "source": [
    "# result dictionary\n",
    "import json\n",
    "robust_policies = {\n",
    "    \"Low Flow\": dps.sevenQ.robust_policy,\n",
    "    \"High Flow\": dps.ams.robust_policy,\n",
    "    \"Compromise\": dps.compromise.robust_policy,\n",
    "    \"PUC\": uc.compromise.robust_policy\n",
    "}\n",
    "\n",
    "with open(\"results/robust-policies.json\", \"w\") as outfile:\n",
    "    json.dump(robust_policies, outfile)\n",
    "#"
   ]
  },
  {
   "cell_type": "code",
   "execution_count": 55,
   "metadata": {},
   "outputs": [
    {
     "data": {
      "text/plain": [
       "{'Low Flow': 'P86', 'High Flow': 'P72', 'Compromise': 'P41', 'PUC': 'PUC'}"
      ]
     },
     "execution_count": 55,
     "metadata": {},
     "output_type": "execute_result"
    }
   ],
   "source": [
    "robust_policies"
   ]
  },
  {
   "cell_type": "code",
   "execution_count": 56,
   "metadata": {},
   "outputs": [],
   "source": [
    "\n",
    "low_flow_dict = {\n",
    "    dps.sevenQ.robust_policy: dps.sevenQ.projection_ls[dps.sevenQ.robust_policy],\n",
    "    dps.ams.robust_policy: dps.sevenQ.projection_ls[dps.ams.robust_policy],\n",
    "    dps.compromise.robust_policy: dps.sevenQ.projection_ls[dps.compromise.robust_policy],\n",
    "    uc.sevenQ.robust_policy: uc.sevenQ.projection_ls[uc.sevenQ.robust_policy]\n",
    "}\n",
    "\n",
    "with open(\"results/low_flow_projections.json\", \"w\") as outfile:\n",
    "    json.dump(low_flow_dict, outfile)"
   ]
  },
  {
   "cell_type": "code",
   "execution_count": 57,
   "metadata": {},
   "outputs": [],
   "source": [
    "\n",
    "high_flow_dict = {\n",
    "    dps.sevenQ.robust_policy: dps.ams.projection_ls[dps.sevenQ.robust_policy],\n",
    "    dps.ams.robust_policy: dps.ams.projection_ls[dps.ams.robust_policy],\n",
    "    dps.compromise.robust_policy: dps.ams.projection_ls[dps.compromise.robust_policy],\n",
    "    uc.ams.robust_policy: uc.ams.projection_ls[uc.ams.robust_policy]\n",
    "}\n",
    "\n",
    "with open(\"results/high_flow_projections.json\", \"w\") as outfile:\n",
    "    json.dump(high_flow_dict, outfile)"
   ]
  },
  {
   "cell_type": "markdown",
   "metadata": {},
   "source": [
    "## Get all policies"
   ]
  },
  {
   "cell_type": "code",
   "execution_count": 29,
   "metadata": {},
   "outputs": [],
   "source": [
    "sqt = uc.sevenQ.robustness_metric_df['Robustness Metric'][0]"
   ]
  },
  {
   "cell_type": "code",
   "execution_count": 40,
   "metadata": {},
   "outputs": [],
   "source": [
    "sq_policies = dps.sevenQ.robustness_metric_df[dps.sevenQ.robustness_metric_df['Robustness Metric'] >= sqt].index.to_list()"
   ]
  },
  {
   "cell_type": "code",
   "execution_count": 41,
   "metadata": {},
   "outputs": [
    {
     "data": {
      "text/plain": [
       "['P86', 'P14']"
      ]
     },
     "execution_count": 41,
     "metadata": {},
     "output_type": "execute_result"
    }
   ],
   "source": [
    "sq_policies"
   ]
  },
  {
   "cell_type": "code",
   "execution_count": 32,
   "metadata": {},
   "outputs": [],
   "source": [
    "amst = uc.ams.robustness_metric_df['Robustness Metric'][0]"
   ]
  },
  {
   "cell_type": "code",
   "execution_count": 42,
   "metadata": {},
   "outputs": [],
   "source": [
    "ams_policies = dps.ams.robustness_metric_df[dps.ams.robustness_metric_df['Robustness Metric'] >= amst].index.to_list()"
   ]
  },
  {
   "cell_type": "code",
   "execution_count": 45,
   "metadata": {},
   "outputs": [],
   "source": [
    "ct = uc.compromise.robustness_metric_df['Robustness Metric'][0]"
   ]
  },
  {
   "cell_type": "code",
   "execution_count": 46,
   "metadata": {},
   "outputs": [],
   "source": [
    "c_policies = dps.compromise.robustness_metric_df[dps.compromise.robustness_metric_df['Robustness Metric'] >= ct].index.to_list()"
   ]
  },
  {
   "cell_type": "code",
   "execution_count": 48,
   "metadata": {},
   "outputs": [],
   "source": [
    "\n",
    "robust_policies_dict = {\n",
    "    \"Low Flows\": sq_policies,\n",
    "    \"High Flows\": ams_policies,\n",
    "    \"Both Policies\": c_policies,\n",
    "}\n",
    "\n",
    "with open(\"results/all_robust_policies.json\", \"w\") as outfile:\n",
    "    json.dump(robust_policies_dict, outfile)"
   ]
  },
  {
   "cell_type": "code",
   "execution_count": null,
   "metadata": {},
   "outputs": [],
   "source": []
  }
 ],
 "metadata": {
  "kernelspec": {
   "display_name": "Python 3",
   "language": "python",
   "name": "python3"
  },
  "language_info": {
   "codemirror_mode": {
    "name": "ipython",
    "version": 3
   },
   "file_extension": ".py",
   "mimetype": "text/x-python",
   "name": "python",
   "nbconvert_exporter": "python",
   "pygments_lexer": "ipython3",
   "version": "3.8.8"
  },
  "toc-autonumbering": true
 },
 "nbformat": 4,
 "nbformat_minor": 4
}
