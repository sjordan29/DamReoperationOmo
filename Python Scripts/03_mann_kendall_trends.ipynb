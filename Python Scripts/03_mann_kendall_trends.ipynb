{
 "cells": [
  {
   "cell_type": "code",
   "execution_count": 1,
   "metadata": {},
   "outputs": [],
   "source": [
    "from utilities import *\n",
    "from mk_test import mk_test"
   ]
  },
  {
   "cell_type": "code",
   "execution_count": 2,
   "metadata": {},
   "outputs": [],
   "source": [
    "class MK_Flows(Flows):\n",
    "\n",
    "    \n",
    "    def _create_huc_full_timeseries(self):\n",
    "        huc = pd.DataFrame()\n",
    "        for projection in PROJECTIONS:\n",
    "            for policy in self.all_flow_scenarios[projection].columns:\n",
    "                huc[policy] = self.historical_uncontrolled_timeseries['00']\n",
    "            self.all_flow_scenarios[projection] =  pd.concat([huc, self.all_flow_scenarios[projection]])\n",
    "\n",
    "    def run_test(self):\n",
    "        self._create_huc_full_timeseries()\n",
    "        self.mk_results = dict.fromkeys(PROJECTIONS)\n",
    "        for projection in PROJECTIONS:\n",
    "            self.mk_results[projection] = dict.fromkeys(ROBUST_POLICY_LIST)\n",
    "            for policy in ROBUST_POLICY_LIST:\n",
    "                trend, _, p, _ = mk_test(np.array(self.all_flow_scenarios[projection][policy]))\n",
    "                self.mk_results[projection][policy] = {\n",
    "                    \"trend\": trend,\n",
    "                    \"p\": p\n",
    "                }\n",
    "\n",
    "    def calc_stats(self):\n",
    "        self.mk_trend_projections = dict.fromkeys(ROBUST_POLICY_LIST)\n",
    "        self.mk_policy_percents = dict.fromkeys(ROBUST_POLICY_LIST)\n",
    "        for policy in ROBUST_POLICY_LIST:\n",
    "            self.mk_trend_projections[policy] = {\n",
    "                \"No Trend\": [],\n",
    "                \"Increasing\": [],\n",
    "                \"Decreasing\": [],\n",
    "            }\n",
    "            self.mk_policy_percents[policy] = {\n",
    "                \"No Trend\": [],\n",
    "                \"Increasing\": [],\n",
    "                \"Decreasing\": [],            \n",
    "            }\n",
    "        \n",
    "        for projection in PROJECTIONS:\n",
    "            for policy in ROBUST_POLICY_LIST:\n",
    "                if self.mk_results[projection][policy]['trend'] == 'no trend':\n",
    "                    self.mk_trend_projections[policy]['No Trend'].append(projection)\n",
    "                elif self.mk_results[projection][policy]['trend'] == 'increasing':\n",
    "                    self.mk_trend_projections[policy]['Increasing'].append(projection)\n",
    "                else:\n",
    "                    self.mk_trend_projections[policy]['Decreasing'].append(projection)\n",
    "        \n",
    "        self.trend_plot_data = pd.DataFrame(columns=['Scenario', 'No Trend', 'Increasing', 'Decreasing'])\n",
    "            \n",
    "        for policy in ROBUST_POLICY_LIST:\n",
    "            self.mk_policy_percents[policy]['Scenario'] =  list(ROBUST_POLICIES.keys())[list(ROBUST_POLICIES.values()).index(policy)]\n",
    "            self.mk_policy_percents[policy][\"No Trend\"] = len(self.mk_trend_projections[policy]['No Trend']) / len(PROJECTIONS)\n",
    "            self.mk_policy_percents[policy][\"Increasing\"] = len(self.mk_trend_projections[policy]['Increasing']) / len(PROJECTIONS)\n",
    "            self.mk_policy_percents[policy][\"Decreasing\"] = len(self.mk_trend_projections[policy]['Decreasing']) / len(PROJECTIONS)\n",
    "            \n",
    "            temp_df = pd.DataFrame(self.mk_policy_percents[policy], index=[0])\n",
    "            \n",
    "            self.trend_plot_data = pd.concat([self.trend_plot_data, temp_df]).reset_index(drop=True)\n",
    "            \n",
    "        lst = ['Compromise', 'High Flow', 'Low Flow', \"PUC\"]        \n",
    "        self.trend_plot_data.set_index('Scenario', inplace=True)\n",
    "        self.trend_plot_data = self.trend_plot_data.loc[lst]\n",
    "\n",
    "\n",
    "            "
   ]
  },
  {
   "cell_type": "code",
   "execution_count": 3,
   "metadata": {},
   "outputs": [],
   "source": [
    "low_flows = MK_Flows(\"7Q\", 'Unnamed: 0', HUC_7Q)\n",
    "high_flows = MK_Flows(\"AMS\", 'date', HUC_AMS)"
   ]
  },
  {
   "cell_type": "code",
   "execution_count": 4,
   "metadata": {},
   "outputs": [],
   "source": [
    "low_flows.run_test()\n",
    "high_flows.run_test()"
   ]
  },
  {
   "cell_type": "code",
   "execution_count": 5,
   "metadata": {},
   "outputs": [],
   "source": [
    "low_flows.calc_stats()\n",
    "high_flows.calc_stats()"
   ]
  },
  {
   "cell_type": "code",
   "execution_count": 8,
   "metadata": {},
   "outputs": [],
   "source": [
    "with open(\"results/high_flow_trends.json\", \"w\") as outfile:\n",
    "    json.dump(high_flows.mk_trend_projections, outfile)"
   ]
  },
  {
   "cell_type": "code",
   "execution_count": 9,
   "metadata": {},
   "outputs": [],
   "source": [
    "with open(\"results/low_flow_trends.json\", \"w\") as outfile:\n",
    "    json.dump(low_flows.mk_trend_projections, outfile)"
   ]
  },
  {
   "cell_type": "code",
   "execution_count": 41,
   "metadata": {},
   "outputs": [
    {
     "data": {
      "text/html": [
       "<div>\n",
       "<style scoped>\n",
       "    .dataframe tbody tr th:only-of-type {\n",
       "        vertical-align: middle;\n",
       "    }\n",
       "\n",
       "    .dataframe tbody tr th {\n",
       "        vertical-align: top;\n",
       "    }\n",
       "\n",
       "    .dataframe thead th {\n",
       "        text-align: right;\n",
       "    }\n",
       "</style>\n",
       "<table border=\"1\" class=\"dataframe\">\n",
       "  <thead>\n",
       "    <tr style=\"text-align: right;\">\n",
       "      <th></th>\n",
       "      <th>No Trend</th>\n",
       "      <th>Increasing</th>\n",
       "      <th>Decreasing</th>\n",
       "    </tr>\n",
       "    <tr>\n",
       "      <th>Scenario</th>\n",
       "      <th></th>\n",
       "      <th></th>\n",
       "      <th></th>\n",
       "    </tr>\n",
       "  </thead>\n",
       "  <tbody>\n",
       "    <tr>\n",
       "      <th>Compromise</th>\n",
       "      <td>0.437500</td>\n",
       "      <td>0.270833</td>\n",
       "      <td>0.291667</td>\n",
       "    </tr>\n",
       "    <tr>\n",
       "      <th>High Flow</th>\n",
       "      <td>0.583333</td>\n",
       "      <td>0.166667</td>\n",
       "      <td>0.250000</td>\n",
       "    </tr>\n",
       "    <tr>\n",
       "      <th>Low Flow</th>\n",
       "      <td>0.479167</td>\n",
       "      <td>0.125000</td>\n",
       "      <td>0.395833</td>\n",
       "    </tr>\n",
       "    <tr>\n",
       "      <th>PUC</th>\n",
       "      <td>0.229167</td>\n",
       "      <td>0.687500</td>\n",
       "      <td>0.083333</td>\n",
       "    </tr>\n",
       "  </tbody>\n",
       "</table>\n",
       "</div>"
      ],
      "text/plain": [
       "            No Trend  Increasing  Decreasing\n",
       "Scenario                                    \n",
       "Compromise  0.437500    0.270833    0.291667\n",
       "High Flow   0.583333    0.166667    0.250000\n",
       "Low Flow    0.479167    0.125000    0.395833\n",
       "PUC         0.229167    0.687500    0.083333"
      ]
     },
     "execution_count": 41,
     "metadata": {},
     "output_type": "execute_result"
    }
   ],
   "source": [
    "high_flows.trend_plot_data"
   ]
  },
  {
   "cell_type": "code",
   "execution_count": 19,
   "metadata": {},
   "outputs": [
    {
     "data": {
      "image/png": "[encoded data removed]",
      "text/plain": [
       "<Figure size 525.6x720 with 2 Axes>"
      ]
     },
     "metadata": {},
     "output_type": "display_data"
    }
   ],
   "source": [
    "import seaborn as sns\n",
    "import string\n",
    "import matplotlib.pyplot as plt\n",
    "fig, (ax1, ax2) = plt.subplots(1,2)\n",
    "sns.set(style=\"dark\")\n",
    "low_flows.trend_plot_data.plot(kind=\"barh\", stacked=True, color=['darkgrey', 'cornflowerblue', 'orange'], ax = ax1, legend = False)\n",
    "high_flows.trend_plot_data.plot(kind=\"barh\", stacked=True, color=['darkgrey', 'cornflowerblue', 'orange'], ax = ax2, legend=True)\n",
    "for (ax,i) in zip([ax1, ax2], range(2)):\n",
    "    ax.set_xticks([0, 0.25, 0.5, 0.75, 1.0])\n",
    "    ax.set_xticklabels([0, 25, 50, 75, 100])\n",
    "    ax.set_xlabel(\"Projections (%)\")\n",
    "    ax.text(0.008, 1.01, \"(\"+ string.ascii_lowercase[i] + \")\", transform=ax.transAxes, \n",
    "        size=13, weight='bold')\n",
    "ax2.set_yticklabels(\"\")\n",
    "ax2.set_ylabel(\"\")\n",
    "ax2.legend(loc='lower center', bbox_to_anchor=(0.5, -1),\n",
    "          ncol=3)\n",
    "ax1.set_title(\"Low Flow Trend\")\n",
    "ax2.set_title(\"High Flow Trend\")\n",
    "ax1.set_yticklabels(['Compromise\\nPolicy', \n",
    "                     'High Flow\\nPolicy',\n",
    "                     'Low Flow\\nPolicy',\n",
    "                     'Projected\\nUncontrolled'])\n",
    "fig.set_size_inches([7.3, 10])\n",
    "fig.tight_layout()\n",
    "plt.savefig(\"Figures/MannKendall-Legend.png\")\n",
    "plt.savefig(\"Figures/MannKendall-Legend.svg\")\n",
    "plt.savefig(\"Figures/MannKendall-Legend.pdf\")"
   ]
  },
  {
   "cell_type": "code",
   "execution_count": 20,
   "metadata": {},
   "outputs": [
    {
     "data": {
      "image/png": "[encoded data removed]",
      "text/plain": [
       "<Figure size 529.2x252 with 2 Axes>"
      ]
     },
     "metadata": {},
     "output_type": "display_data"
    }
   ],
   "source": [
    "import seaborn as sns\n",
    "import string\n",
    "import matplotlib.pyplot as plt\n",
    "fig, (ax1, ax2) = plt.subplots(1,2)\n",
    "sns.set(style=\"dark\")\n",
    "low_flows.trend_plot_data.plot(kind=\"barh\", stacked=True, color=['darkgrey', 'cornflowerblue', 'orange'], ax = ax1, legend = False)\n",
    "high_flows.trend_plot_data.plot(kind=\"barh\", stacked=True, color=['darkgrey', 'cornflowerblue', 'orange'], ax = ax2, legend=False)\n",
    "for (ax,i) in zip([ax1, ax2], range(2)):\n",
    "    ax.set_xticks([0, 0.25, 0.5, 0.75, 1.0])\n",
    "    ax.set_xticklabels([0, 25, 50, 75, 100])\n",
    "    ax.set_xlabel(\"Projections (%)\")\n",
    "    ax.text(0.008, 1.01, \"(\"+ string.ascii_lowercase[i] + \")\", transform=ax.transAxes, \n",
    "        size=13, weight='bold')\n",
    "ax2.set_yticklabels(\"\")\n",
    "ax2.set_ylabel(\"\")\n",
    "# ax2.legend(loc='lower center', bbox_to_anchor=(0.5, -1),\n",
    "#           ncol=3)\n",
    "ax1.set_title(\"Low Flow Trend\")\n",
    "ax2.set_title(\"High Flow Trend\")\n",
    "ax1.set_yticklabels(['Compromise\\nPolicy', \n",
    "                     'High Flow\\nPolicy',\n",
    "                     'Low Flow\\nPolicy',\n",
    "                     'Projected\\nUncontrolled'])\n",
    "fig.set_size_inches([7.35, 3.5])\n",
    "fig.tight_layout()\n",
    "plt.savefig(\"Figures/MannKendall.png\")\n",
    "plt.savefig(\"Figures/MannKendall.svg\")\n",
    "plt.savefig(\"Figures/MannKendall.pdf\")"
   ]
  },
  {
   "cell_type": "code",
   "execution_count": null,
   "metadata": {},
   "outputs": [],
   "source": []
  }
 ],
 "metadata": {
  "kernelspec": {
   "display_name": "Python 3",
   "language": "python",
   "name": "python3"
  },
  "language_info": {
   "codemirror_mode": {
    "name": "ipython",
    "version": 3
   },
   "file_extension": ".py",
   "mimetype": "text/x-python",
   "name": "python",
   "nbconvert_exporter": "python",
   "pygments_lexer": "ipython3",
   "version": "3.8.8"
  }
 },
 "nbformat": 4,
 "nbformat_minor": 4
}
